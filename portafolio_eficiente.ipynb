{
  "cells": [
    {
      "cell_type": "markdown",
      "metadata": {
        "id": "view-in-github",
        "colab_type": "text"
      },
      "source": [
        "<a href=\"https://colab.research.google.com/github/Rauloigs/Fin-Technical-Analysis/blob/main/portafolio_eficiente.ipynb\" target=\"_parent\"><img src=\"https://colab.research.google.com/assets/colab-badge.svg\" alt=\"Open In Colab\"/></a>"
      ]
    },
    {
      "cell_type": "code",
      "execution_count": null,
      "metadata": {
        "id": "D9JtE9g9ZKBN",
        "scrolled": true
      },
      "outputs": [],
      "source": [
        "# Call the module to do import\n",
        "%load_ext autoreload\n",
        "%autoreload 2\n",
        "%matplotlib inline"
      ]
    },
    {
      "cell_type": "markdown",
      "metadata": {
        "id": "RgTJQxzDs1AX"
      },
      "source": [
        "# What's still missing?\n",
        "\n",
        "1. I want to see color in the covariance matrix to identifie uncorrelated assets.\n",
        "2. Re-study formulas of each parameter\n",
        "3. shinear más las visualizaciones\n",
        "4. Revisar por el el Weatlh y Drawdown no generan un diferencial\n",
        "\n",
        "### Para la Clase\n",
        "1. El Expected Shortfall: promedio para un evento extremo cuanto vas a perder. Para ese 5% de las veces cuanto vas a perder en promedio.\n",
        "2. El qqplot, que es una representación de que tan fuera de lo normal esta un activo. Entre más se separa de la recta más desviado esta."
      ]
    },
    {
      "cell_type": "code",
      "execution_count": null,
      "metadata": {
        "id": "lMfAd8X4ZUWk"
      },
      "outputs": [],
      "source": [
        "# Set libraries to work woth sheets\n",
        "import pandas as pd\n",
        "import numpy as np\n",
        "import rigs_risk_kit as rrk\n",
        "# from scipy.optimize import minimize"
      ]
    },
    {
      "cell_type": "markdown",
      "metadata": {
        "id": "TYs833zHZefm"
      },
      "source": [
        "## Get the stocks df\n",
        "keep this csv updated monthly 🙌"
      ]
    },
    {
      "cell_type": "code",
      "execution_count": null,
      "metadata": {
        "id": "ppAVDNvGeE-6",
        "outputId": "f95f0cb1-1351-4621-d6ba-1a60d9def55e"
      },
      "outputs": [
        {
          "data": {
            "text/html": [
              "<div>\n",
              "<style scoped>\n",
              "    .dataframe tbody tr th:only-of-type {\n",
              "        vertical-align: middle;\n",
              "    }\n",
              "\n",
              "    .dataframe tbody tr th {\n",
              "        vertical-align: top;\n",
              "    }\n",
              "\n",
              "    .dataframe thead th {\n",
              "        text-align: right;\n",
              "    }\n",
              "</style>\n",
              "<table border=\"1\" class=\"dataframe\">\n",
              "  <thead>\n",
              "    <tr style=\"text-align: right;\">\n",
              "      <th></th>\n",
              "      <th>date</th>\n",
              "      <th>AMD</th>\n",
              "      <th>META</th>\n",
              "      <th>JPM</th>\n",
              "      <th>NFLX</th>\n",
              "      <th>GOOG</th>\n",
              "      <th>NVDA</th>\n",
              "      <th>IBE</th>\n",
              "      <th>WMT</th>\n",
              "      <th>NVO</th>\n",
              "      <th>CVX</th>\n",
              "    </tr>\n",
              "  </thead>\n",
              "  <tbody>\n",
              "    <tr>\n",
              "      <th>0</th>\n",
              "      <td>10/03/22</td>\n",
              "      <td>-0.02038</td>\n",
              "      <td>-0.03893</td>\n",
              "      <td>-0.02252</td>\n",
              "      <td>-0.04611</td>\n",
              "      <td>-0.01658</td>\n",
              "      <td>-0.02471</td>\n",
              "      <td>0.01551</td>\n",
              "      <td>-0.00379</td>\n",
              "      <td>-0.03063</td>\n",
              "      <td>0.00047</td>\n",
              "    </tr>\n",
              "    <tr>\n",
              "      <th>1</th>\n",
              "      <td>11/03/22</td>\n",
              "      <td>-0.01956</td>\n",
              "      <td>-0.00522</td>\n",
              "      <td>0.00993</td>\n",
              "      <td>-0.02736</td>\n",
              "      <td>-0.02866</td>\n",
              "      <td>-0.03484</td>\n",
              "      <td>0.00407</td>\n",
              "      <td>0.01394</td>\n",
              "      <td>0.00474</td>\n",
              "      <td>-0.02446</td>\n",
              "    </tr>\n",
              "    <tr>\n",
              "      <th>2</th>\n",
              "      <td>14/03/22</td>\n",
              "      <td>0.06924</td>\n",
              "      <td>0.02893</td>\n",
              "      <td>0.01775</td>\n",
              "      <td>0.03849</td>\n",
              "      <td>0.02304</td>\n",
              "      <td>0.07689</td>\n",
              "      <td>-0.00101</td>\n",
              "      <td>0.01187</td>\n",
              "      <td>0.00708</td>\n",
              "      <td>-0.05062</td>\n",
              "    </tr>\n",
              "    <tr>\n",
              "      <th>3</th>\n",
              "      <td>15/03/22</td>\n",
              "      <td>0.05525</td>\n",
              "      <td>0.06041</td>\n",
              "      <td>0.04469</td>\n",
              "      <td>0.04009</td>\n",
              "      <td>0.03108</td>\n",
              "      <td>0.06661</td>\n",
              "      <td>-0.00812</td>\n",
              "      <td>-0.00288</td>\n",
              "      <td>0.03689</td>\n",
              "      <td>-0.00360</td>\n",
              "    </tr>\n",
              "    <tr>\n",
              "      <th>4</th>\n",
              "      <td>16/03/22</td>\n",
              "      <td>-0.03190</td>\n",
              "      <td>0.02067</td>\n",
              "      <td>0.01264</td>\n",
              "      <td>0.03879</td>\n",
              "      <td>0.00681</td>\n",
              "      <td>0.01102</td>\n",
              "      <td>0.00409</td>\n",
              "      <td>-0.00227</td>\n",
              "      <td>0.03407</td>\n",
              "      <td>0.01731</td>\n",
              "    </tr>\n",
              "  </tbody>\n",
              "</table>\n",
              "</div>"
            ],
            "text/plain": [
              "       date      AMD     META      JPM     NFLX     GOOG     NVDA      IBE  \\\n",
              "0  10/03/22 -0.02038 -0.03893 -0.02252 -0.04611 -0.01658 -0.02471  0.01551   \n",
              "1  11/03/22 -0.01956 -0.00522  0.00993 -0.02736 -0.02866 -0.03484  0.00407   \n",
              "2  14/03/22  0.06924  0.02893  0.01775  0.03849  0.02304  0.07689 -0.00101   \n",
              "3  15/03/22  0.05525  0.06041  0.04469  0.04009  0.03108  0.06661 -0.00812   \n",
              "4  16/03/22 -0.03190  0.02067  0.01264  0.03879  0.00681  0.01102  0.00409   \n",
              "\n",
              "       WMT      NVO      CVX  \n",
              "0 -0.00379 -0.03063  0.00047  \n",
              "1  0.01394  0.00474 -0.02446  \n",
              "2  0.01187  0.00708 -0.05062  \n",
              "3 -0.00288  0.03689 -0.00360  \n",
              "4 -0.00227  0.03407  0.01731  "
            ]
          },
          "execution_count": 3,
          "metadata": {},
          "output_type": "execute_result"
        }
      ],
      "source": [
        "file_path = '../data/rets_equities_2.csv'\n",
        "rets_equities_1 = pd.read_csv(file_path)\n",
        "# Now you can work with your DataFrame 'df'\n",
        "rets_equities_1.head()"
      ]
    },
    {
      "cell_type": "code",
      "execution_count": null,
      "metadata": {
        "id": "c1dYdoFIeE-6",
        "outputId": "be1cfe24-cdd4-4556-f40d-950d22a7164d"
      },
      "outputs": [
        {
          "data": {
            "text/html": [
              "<div>\n",
              "<style scoped>\n",
              "    .dataframe tbody tr th:only-of-type {\n",
              "        vertical-align: middle;\n",
              "    }\n",
              "\n",
              "    .dataframe tbody tr th {\n",
              "        vertical-align: top;\n",
              "    }\n",
              "\n",
              "    .dataframe thead th {\n",
              "        text-align: right;\n",
              "    }\n",
              "</style>\n",
              "<table border=\"1\" class=\"dataframe\">\n",
              "  <thead>\n",
              "    <tr style=\"text-align: right;\">\n",
              "      <th></th>\n",
              "      <th>AMD</th>\n",
              "      <th>META</th>\n",
              "      <th>JPM</th>\n",
              "      <th>NFLX</th>\n",
              "      <th>GOOG</th>\n",
              "      <th>NVDA</th>\n",
              "      <th>IBE</th>\n",
              "      <th>WMT</th>\n",
              "      <th>NVO</th>\n",
              "      <th>CVX</th>\n",
              "    </tr>\n",
              "    <tr>\n",
              "      <th>date</th>\n",
              "      <th></th>\n",
              "      <th></th>\n",
              "      <th></th>\n",
              "      <th></th>\n",
              "      <th></th>\n",
              "      <th></th>\n",
              "      <th></th>\n",
              "      <th></th>\n",
              "      <th></th>\n",
              "      <th></th>\n",
              "    </tr>\n",
              "  </thead>\n",
              "  <tbody>\n",
              "    <tr>\n",
              "      <th>2024-07-01</th>\n",
              "      <td>0.04198</td>\n",
              "      <td>0.00955</td>\n",
              "      <td>0.01645</td>\n",
              "      <td>0.00886</td>\n",
              "      <td>0.01149</td>\n",
              "      <td>-0.01311</td>\n",
              "      <td>-0.01401</td>\n",
              "      <td>0.00874</td>\n",
              "      <td>-0.01678</td>\n",
              "      <td>0.00147</td>\n",
              "    </tr>\n",
              "    <tr>\n",
              "      <th>2024-07-02</th>\n",
              "      <td>-0.00250</td>\n",
              "      <td>0.00090</td>\n",
              "      <td>-0.00067</td>\n",
              "      <td>0.00431</td>\n",
              "      <td>0.00418</td>\n",
              "      <td>0.04573</td>\n",
              "      <td>0.01087</td>\n",
              "      <td>0.00250</td>\n",
              "      <td>-0.02875</td>\n",
              "      <td>-0.00026</td>\n",
              "    </tr>\n",
              "    <tr>\n",
              "      <th>2024-07-03</th>\n",
              "      <td>0.04881</td>\n",
              "      <td>0.05873</td>\n",
              "      <td>-0.01869</td>\n",
              "      <td>0.01193</td>\n",
              "      <td>0.02439</td>\n",
              "      <td>-0.01910</td>\n",
              "      <td>-0.00827</td>\n",
              "      <td>0.02638</td>\n",
              "      <td>0.02520</td>\n",
              "      <td>-0.01531</td>\n",
              "    </tr>\n",
              "    <tr>\n",
              "      <th>2024-07-05</th>\n",
              "      <td>0.03950</td>\n",
              "      <td>-0.01961</td>\n",
              "      <td>0.00186</td>\n",
              "      <td>-0.00711</td>\n",
              "      <td>-0.00771</td>\n",
              "      <td>0.01883</td>\n",
              "      <td>0.01418</td>\n",
              "      <td>-0.00514</td>\n",
              "      <td>0.00492</td>\n",
              "      <td>0.00013</td>\n",
              "    </tr>\n",
              "    <tr>\n",
              "      <th>2024-07-08</th>\n",
              "      <td>-0.00890</td>\n",
              "      <td>0.00128</td>\n",
              "      <td>0.01199</td>\n",
              "      <td>0.00000</td>\n",
              "      <td>-0.00021</td>\n",
              "      <td>0.02480</td>\n",
              "      <td>0.00164</td>\n",
              "      <td>0.00316</td>\n",
              "      <td>-0.01845</td>\n",
              "      <td>-0.00875</td>\n",
              "    </tr>\n",
              "  </tbody>\n",
              "</table>\n",
              "</div>"
            ],
            "text/plain": [
              "                AMD     META      JPM     NFLX     GOOG     NVDA      IBE  \\\n",
              "date                                                                        \n",
              "2024-07-01  0.04198  0.00955  0.01645  0.00886  0.01149 -0.01311 -0.01401   \n",
              "2024-07-02 -0.00250  0.00090 -0.00067  0.00431  0.00418  0.04573  0.01087   \n",
              "2024-07-03  0.04881  0.05873 -0.01869  0.01193  0.02439 -0.01910 -0.00827   \n",
              "2024-07-05  0.03950 -0.01961  0.00186 -0.00711 -0.00771  0.01883  0.01418   \n",
              "2024-07-08 -0.00890  0.00128  0.01199  0.00000 -0.00021  0.02480  0.00164   \n",
              "\n",
              "                WMT      NVO      CVX  \n",
              "date                                   \n",
              "2024-07-01  0.00874 -0.01678  0.00147  \n",
              "2024-07-02  0.00250 -0.02875 -0.00026  \n",
              "2024-07-03  0.02638  0.02520 -0.01531  \n",
              "2024-07-05 -0.00514  0.00492  0.00013  \n",
              "2024-07-08  0.00316 -0.01845 -0.00875  "
            ]
          },
          "execution_count": 4,
          "metadata": {},
          "output_type": "execute_result"
        }
      ],
      "source": [
        "rets = rrk.get_tab_rets(rets_equities_1)\n",
        "# Use to decide the range\n",
        "rets = rets['2024-07-01':]\n",
        "rets.head(5)"
      ]
    },
    {
      "cell_type": "markdown",
      "metadata": {
        "id": "VijdNH3ocHeb"
      },
      "source": [
        "## Define inputs\n",
        "- er (Expected Returns)\n",
        "- cov (Covariance Matrix)\n",
        "- different portfolios"
      ]
    },
    {
      "cell_type": "code",
      "execution_count": null,
      "metadata": {
        "id": "wDWrN-D1bgrV"
      },
      "outputs": [],
      "source": [
        "# er = rrk.annualize_rets(rets['2023-05-21':], 252)\n",
        "er = rrk.annualize_rets(rets, 252)\n",
        "# Remeber annualizing values of the covariance by multiplying time 252 (daily trading)\n",
        "cov = rets.cov()*252"
      ]
    },
    {
      "cell_type": "code",
      "execution_count": null,
      "metadata": {
        "id": "j0Kj_TPdcyfC"
      },
      "outputs": [],
      "source": [
        "#\n",
        "p_all=['AMD','META','JPM','NFLX','GOOG','NVDA','IBE','WMT','NVO','CVX']\n"
      ]
    },
    {
      "cell_type": "markdown",
      "metadata": {
        "id": "0lI2Re03k5Rd"
      },
      "source": [
        "# 1. Annualized Return & Volatility"
      ]
    },
    {
      "cell_type": "code",
      "execution_count": null,
      "metadata": {
        "colab": {
          "base_uri": "https://localhost:8080/",
          "height": 472
        },
        "id": "5KQIhjtUl5kL",
        "outputId": "abff3441-8711-4fde-8306-b4c4178b1ef8"
      },
      "outputs": [
        {
          "data": {
            "text/plain": [
              "<AxesSubplot:>"
            ]
          },
          "execution_count": 7,
          "metadata": {},
          "output_type": "execute_result"
        },
        {
          "data": {
            "image/png": "[encoded data removed]",
            "text/plain": [
              "<Figure size 1080x288 with 1 Axes>"
            ]
          },
          "metadata": {
            "needs_background": "light"
          },
          "output_type": "display_data"
        }
      ],
      "source": [
        "annual_vol = rrk.annualize_vol(rets, 252)\n",
        "a_return = pd.Series(er, name='return')\n",
        "a_vol  = pd.Series(annual_vol, name='volatility')\n",
        "vol_ret_df=pd.concat([a_vol,a_return],axis=1)\n",
        "vol_ret_df.plot.bar(color=['purple', 'orange'], figsize=(15,4))"
      ]
    },
    {
      "cell_type": "markdown",
      "metadata": {
        "id": "iHCbc08IiBIS"
      },
      "source": [
        "# 2. Covariance Matrix\n",
        "\n",
        "Still unfinished: color cells and make it smaller"
      ]
    },
    {
      "cell_type": "markdown",
      "metadata": {
        "id": "T8hqZ4vMurOZ"
      },
      "source": [
        "View Covariance Matrix in [technical_analysis_book ](https://https://docs.google.com/spreadsheets/d/1wyYmbaS5Md0YkaBph3enhz_Bou8mctJdEsyDA5ksYEk/edit?gid=633929030#gid=633929030)Sheets"
      ]
    },
    {
      "cell_type": "code",
      "execution_count": null,
      "metadata": {
        "id": "Un25eEWnqFkt"
      },
      "outputs": [],
      "source": [
        "mat_cov = cov.loc[p_all, p_all]\n",
        "# Export to sheets\n",
        "#worksheet = gc.open(\"technical_analysis_book\").get_worksheet(5)\n",
        "#worksheet.update([mat_cov.columns.values.tolist()] + mat_cov.fillna(-1).values.tolist())"
      ]
    },
    {
      "cell_type": "code",
      "execution_count": null,
      "metadata": {
        "id": "BkKMdeDLeE-9"
      },
      "outputs": [],
      "source": [
        "# Specify the file path where you want to save the CSV\n",
        "file_path_1 = '../finals/mat_cov_2.csv'\n",
        "\n",
        "# Export the DataFrame to CSV\n",
        "mat_cov.to_csv(file_path_1, index=False)"
      ]
    },
    {
      "cell_type": "markdown",
      "metadata": {
        "id": "B1D6t5SniOKe"
      },
      "source": [
        "# 3. Drawdown and the Wealth Index\n",
        "Considerations ✅:\n",
        "- input the asset to be analyzed\n",
        "- 2 graphics. 1st Wealth Index & Peaks, 2nd Drawdown"
      ]
    },
    {
      "cell_type": "code",
      "execution_count": null,
      "metadata": {
        "colab": {
          "base_uri": "https://localhost:8080/",
          "height": 238
        },
        "id": "x5YUkffkiYSC",
        "outputId": "9351efb7-c7e1-48b9-bc7e-f520d276ee7b"
      },
      "outputs": [
        {
          "data": {
            "text/html": [
              "<div>\n",
              "<style scoped>\n",
              "    .dataframe tbody tr th:only-of-type {\n",
              "        vertical-align: middle;\n",
              "    }\n",
              "\n",
              "    .dataframe tbody tr th {\n",
              "        vertical-align: top;\n",
              "    }\n",
              "\n",
              "    .dataframe thead th {\n",
              "        text-align: right;\n",
              "    }\n",
              "</style>\n",
              "<table border=\"1\" class=\"dataframe\">\n",
              "  <thead>\n",
              "    <tr style=\"text-align: right;\">\n",
              "      <th></th>\n",
              "      <th>Wealth</th>\n",
              "      <th>Peaks</th>\n",
              "      <th>Drawdown</th>\n",
              "    </tr>\n",
              "    <tr>\n",
              "      <th>date</th>\n",
              "      <th></th>\n",
              "      <th></th>\n",
              "      <th></th>\n",
              "    </tr>\n",
              "  </thead>\n",
              "  <tbody>\n",
              "    <tr>\n",
              "      <th>2024-07-01</th>\n",
              "      <td>1041.980000</td>\n",
              "      <td>1041.980000</td>\n",
              "      <td>0.0000</td>\n",
              "    </tr>\n",
              "    <tr>\n",
              "      <th>2024-07-02</th>\n",
              "      <td>1039.375050</td>\n",
              "      <td>1041.980000</td>\n",
              "      <td>-0.0025</td>\n",
              "    </tr>\n",
              "    <tr>\n",
              "      <th>2024-07-03</th>\n",
              "      <td>1090.106946</td>\n",
              "      <td>1090.106946</td>\n",
              "      <td>0.0000</td>\n",
              "    </tr>\n",
              "    <tr>\n",
              "      <th>2024-07-05</th>\n",
              "      <td>1133.166171</td>\n",
              "      <td>1133.166171</td>\n",
              "      <td>0.0000</td>\n",
              "    </tr>\n",
              "    <tr>\n",
              "      <th>2024-07-08</th>\n",
              "      <td>1123.080992</td>\n",
              "      <td>1133.166171</td>\n",
              "      <td>-0.0089</td>\n",
              "    </tr>\n",
              "  </tbody>\n",
              "</table>\n",
              "</div>"
            ],
            "text/plain": [
              "                 Wealth        Peaks  Drawdown\n",
              "date                                          \n",
              "2024-07-01  1041.980000  1041.980000    0.0000\n",
              "2024-07-02  1039.375050  1041.980000   -0.0025\n",
              "2024-07-03  1090.106946  1090.106946    0.0000\n",
              "2024-07-05  1133.166171  1133.166171    0.0000\n",
              "2024-07-08  1123.080992  1133.166171   -0.0089"
            ]
          },
          "execution_count": 10,
          "metadata": {},
          "output_type": "execute_result"
        }
      ],
      "source": [
        "# How do the Drawdown, Wealth, Peaks data looks like?\n",
        "rrk.drawdown(rets['AMD']).head()"
      ]
    },
    {
      "cell_type": "markdown",
      "metadata": {
        "id": "V49F2XgakSNe"
      },
      "source": [
        "## Wealth & Drawdown\n",
        "\n",
        "- choose a date or asset"
      ]
    },
    {
      "cell_type": "code",
      "execution_count": null,
      "metadata": {
        "colab": {
          "base_uri": "https://localhost:8080/",
          "height": 533
        },
        "id": "KF_oKeyHiljD",
        "outputId": "dc634245-5202-4467-e3bb-455109e27111"
      },
      "outputs": [
        {
          "data": {
            "text/plain": [
              "<AxesSubplot:xlabel='date'>"
            ]
          },
          "execution_count": 11,
          "metadata": {},
          "output_type": "execute_result"
        },
        {
          "data": {
            "image/png": "[encoded data removed]",
            "text/plain": [
              "<Figure size 1080x432 with 1 Axes>"
            ]
          },
          "metadata": {
            "needs_background": "light"
          },
          "output_type": "display_data"
        }
      ],
      "source": [
        "## rrk.drawdown(rets['2021-05-21':]['GOOG'])[['Wealth', 'Peaks']].plot(figsize=(15, 6), color=['purple', 'orange'])\n",
        "rrk.drawdown(rets['AMD'])[['Wealth', 'Peaks']].plot(figsize=(15, 6), color=['purple', 'orange'])"
      ]
    },
    {
      "cell_type": "code",
      "execution_count": null,
      "metadata": {
        "colab": {
          "base_uri": "https://localhost:8080/",
          "height": 533
        },
        "id": "KaTvcRpWjNop",
        "outputId": "456ef0f8-9444-4a4c-99f8-de198cb0e182"
      },
      "outputs": [
        {
          "data": {
            "text/plain": [
              "<AxesSubplot:xlabel='date'>"
            ]
          },
          "execution_count": 12,
          "metadata": {},
          "output_type": "execute_result"
        },
        {
          "data": {
            "image/png": "[encoded data removed]",
            "text/plain": [
              "<Figure size 1080x432 with 1 Axes>"
            ]
          },
          "metadata": {
            "needs_background": "light"
          },
          "output_type": "display_data"
        }
      ],
      "source": [
        "## rrk.drawdown(rets['2021-05-21':]['GOOG'])[['Drawdown']].plot(figsize=(15,6), color='purple')\n",
        "rrk.drawdown(rets['AMD'])[['Drawdown']].plot(figsize=(15,6), color='purple')"
      ]
    },
    {
      "cell_type": "markdown",
      "metadata": {
        "id": "gLDql8aNj3g0"
      },
      "source": [
        "## Look for largest Drawdown & when did it happen?"
      ]
    },
    {
      "cell_type": "code",
      "execution_count": null,
      "metadata": {
        "colab": {
          "base_uri": "https://localhost:8080/"
        },
        "id": "dYDeq9X_jt6u",
        "outputId": "2bffbb58-87db-4d87-9e41-003f4fba1cf1"
      },
      "outputs": [
        {
          "name": "stdout",
          "output_type": "stream",
          "text": [
            "Max Drawdown was Drawdown   -0.300556\n",
            "dtype: float64 Drawdown   2024-08-06\n",
            "dtype: datetime64[ns]\n"
          ]
        }
      ],
      "source": [
        "print(\"Max Drawdown was\", rrk.drawdown(rets['AMD'])[['Drawdown']].min(), rrk.drawdown(rets['AMD'])[['Drawdown']].idxmin())"
      ]
    },
    {
      "cell_type": "markdown",
      "metadata": {
        "id": "Qn5ERvwhm8CU"
      },
      "source": [
        "# 4. Skewness, Kurtosis & Jarque Jarbera"
      ]
    },
    {
      "cell_type": "markdown",
      "metadata": {
        "id": "6VT-cu6vm_cZ"
      },
      "source": [
        "## Skewness\n",
        "If the skewness is between **-0.5 & 0.5**, the data are nearly symmetrical. If the skewness is between **-1 & -0.5** (negative skewed) or between **0.5 & 1**(positive skewed), the data are slightly skewed. If the skewness is lower than -1 (negative skewed) or greater than 1 (positive skewed), the data are extremely skewed.\n",
        "\n",
        "Positive Skewness means when the tail on the right side of the distribution is longer or fatter. The mean and median will be greater than the mode. Negative Skewness is when the tail of the left side of the distribution is longer or fatter than the tail on the right side. The mean and median will be less than the mode."
      ]
    },
    {
      "cell_type": "code",
      "execution_count": null,
      "metadata": {
        "colab": {
          "base_uri": "https://localhost:8080/",
          "height": 552
        },
        "id": "rWcgWo9NnZP6",
        "outputId": "dd2bd71d-c56e-46a3-d38a-74c2350cba16"
      },
      "outputs": [
        {
          "data": {
            "text/plain": [
              "<AxesSubplot:>"
            ]
          },
          "execution_count": 14,
          "metadata": {},
          "output_type": "execute_result"
        },
        {
          "data": {
            "image/png": "[encoded data removed]",
            "text/plain": [
              "<Figure size 864x360 with 1 Axes>"
            ]
          },
          "metadata": {
            "needs_background": "light"
          },
          "output_type": "display_data"
        }
      ],
      "source": [
        "rrk.skewness(rets).plot.bar(color = 'purple', figsize = (12, 5))"
      ]
    },
    {
      "cell_type": "markdown",
      "metadata": {
        "id": "V9D9JMyHn2cY"
      },
      "source": [
        "## Kurtosis\n",
        "A positive value for the kurtosis indicates a distribution more peaked than normal. In contrast, a negative kurtosis indicates a shape flatter than normal. Analogous to the skewness, the general guideline is that if the kurtosis is greater than +2, the distribution is too peaked. Likewise, a kurtosis of less than −2 indicates a distribution that is too flat.\n",
        "\n",
        "For investors, high kurtosis of the return distribution curve implies that there have been many price fluctuations in the past (positive or negative) away from the average returns for the investment. So, an investor might experience extreme price fluctuations with an investment with high kurtosis. This phenomenon is known as kurtosis risk."
      ]
    },
    {
      "cell_type": "code",
      "execution_count": null,
      "metadata": {
        "colab": {
          "base_uri": "https://localhost:8080/",
          "height": 549
        },
        "id": "5AJAcCXun7rZ",
        "outputId": "6b57e590-220d-40a5-f277-53334d6cfd90"
      },
      "outputs": [
        {
          "data": {
            "text/plain": [
              "<AxesSubplot:>"
            ]
          },
          "execution_count": 15,
          "metadata": {},
          "output_type": "execute_result"
        },
        {
          "data": {
            "image/png": "[encoded data removed]",
            "text/plain": [
              "<Figure size 864x360 with 1 Axes>"
            ]
          },
          "metadata": {
            "needs_background": "light"
          },
          "output_type": "display_data"
        }
      ],
      "source": [
        "rrk.kurtosis(rets).plot.bar(color = 'purple', figsize = (12, 5))"
      ]
    },
    {
      "cell_type": "markdown",
      "metadata": {
        "id": "Xy3pa2oOoL3H"
      },
      "source": [
        "## Jarque Jarbera"
      ]
    },
    {
      "cell_type": "code",
      "execution_count": null,
      "metadata": {
        "colab": {
          "base_uri": "https://localhost:8080/"
        },
        "id": "Nw_HwywWoGJg",
        "outputId": "cdde3072-fdce-459b-9263-61f8f54bbfdc"
      },
      "outputs": [
        {
          "data": {
            "text/plain": [
              "True"
            ]
          },
          "execution_count": 16,
          "metadata": {},
          "output_type": "execute_result"
        }
      ],
      "source": [
        "rrk.is_normal(rets['AMD'])"
      ]
    },
    {
      "cell_type": "markdown",
      "metadata": {
        "id": "_nYjJd6XocRK"
      },
      "source": [
        "# 5. VaR Historic - non parametric method\n",
        "(*With out estimating or assuming any other parameters rather than historic returns*)\n",
        "\n",
        "VaR is typically defined as the maximum loss which should not be exceeded during a specific time period with a given probability level (or ‘confidence level’). Mathematically, the VaR corresponds to the quantile of the distribution of returns.\n",
        "\n",
        "For instance, if we select a confidence level of 99%, then our VaR estimate corresponds to the 1st percentile of the probability distribution of daily returns (the top 1% of worst returns). In other words, there are 99% chances that we will not obtain a loss greater than our VaR estimate (for the 99% confidence level). Similarly, VaR for a 95% confidence level corresponds to top 5% of the worst returns.\n",
        "\n",
        "## CVaR (*Historic*)\n",
        "While VaR represents a worst-case loss associated with a probability and a time horizon, CVaR is the expected loss if that worst-case threshold is ever crossed. CVaR, in other words, quantifies the expected losses that occur beyond the VaR breakpoint.\n",
        "- Conditional value at risk is derived from the value at risk for a portfolio or investment.\n",
        "- The use of CVaR as opposed to just VaR tends to lead to a more conservative approach in terms of risk exposure.\n",
        "- The choice between VaR and CVaR is not always clear, but volatile and engineered investments can benefit from CVaR as a check to the assumptions imposed by VaR.\n",
        "\n",
        "The less stable the investment, the greater the chance that VaR will not give a full picture of the risks, as it is indifferent to anything beyond its own threshold."
      ]
    },
    {
      "cell_type": "code",
      "execution_count": null,
      "metadata": {
        "colab": {
          "base_uri": "https://localhost:8080/",
          "height": 551
        },
        "id": "Hy1GDueuogBi",
        "outputId": "141b3a2d-e8f0-4bd9-d76d-e0233206f37c"
      },
      "outputs": [
        {
          "data": {
            "text/plain": [
              "<AxesSubplot:>"
            ]
          },
          "execution_count": 17,
          "metadata": {},
          "output_type": "execute_result"
        },
        {
          "data": {
            "image/png": "[encoded data removed]",
            "text/plain": [
              "<Figure size 1080x360 with 1 Axes>"
            ]
          },
          "metadata": {
            "needs_background": "light"
          },
          "output_type": "display_data"
        }
      ],
      "source": [
        "var = pd.Series(rrk.var_gaussian(rets, modified=True)*100, name='VaR')\n",
        "cvar  = pd.Series(rrk.cvar_historic(rets)*100, name='CVaR')\n",
        "cvar_var_df=pd.concat([var,cvar],axis=1)\n",
        "cvar_var_df.plot.bar(color=['purple', 'orange'], figsize=(15,5))"
      ]
    },
    {
      "cell_type": "markdown",
      "metadata": {
        "id": "ILvKCm90oqQg"
      },
      "source": [
        "# 5.1 VaR Gaussian modified Cornish-Fisher\n",
        "depending on Gaussian, Skewness and Kurtosis"
      ]
    },
    {
      "cell_type": "code",
      "execution_count": null,
      "metadata": {
        "colab": {
          "base_uri": "https://localhost:8080/",
          "height": 549
        },
        "id": "ZlE6EdJ4ox5O",
        "outputId": "dff254db-fb8a-4368-ca32-ffab5a4e28fc"
      },
      "outputs": [
        {
          "data": {
            "text/plain": [
              "<AxesSubplot:>"
            ]
          },
          "execution_count": 18,
          "metadata": {},
          "output_type": "execute_result"
        },
        {
          "data": {
            "image/png": "[encoded data removed]",
            "text/plain": [
              "<Figure size 864x360 with 1 Axes>"
            ]
          },
          "metadata": {
            "needs_background": "light"
          },
          "output_type": "display_data"
        }
      ],
      "source": [
        "(rrk.var_gaussian(rets, 5, modified=False)*100).plot.bar(color = 'purple', figsize = (12, 5))"
      ]
    },
    {
      "cell_type": "markdown",
      "metadata": {
        "id": "GAXvdczMqJiK"
      },
      "source": [
        "# 6. Semideviation\n",
        "Semi-deviation is an alternative measurement to standard deviation or variance. However, unlike those measures, semi-deviation looks only at negative price fluctuations. Thus, semi-deviation is most often used to evaluate the downside risk of an investment.\n",
        "\n",
        "- Semi-deviation is an alternative to the standard deviation for measuring an asset's degree of risk.\n",
        "- Semi-deviation measures only the below-mean, or negative, fluctuations in an asset's price.\n",
        "- This measurement tool is most often used to evaluate risky investments."
      ]
    },
    {
      "cell_type": "code",
      "execution_count": null,
      "metadata": {
        "colab": {
          "base_uri": "https://localhost:8080/",
          "height": 549
        },
        "id": "rcMApKYWqLfz",
        "outputId": "241c070e-b555-4371-dd88-87dd80d02265"
      },
      "outputs": [
        {
          "data": {
            "text/plain": [
              "<AxesSubplot:>"
            ]
          },
          "execution_count": 19,
          "metadata": {},
          "output_type": "execute_result"
        },
        {
          "data": {
            "image/png": "[encoded data removed]",
            "text/plain": [
              "<Figure size 864x360 with 1 Axes>"
            ]
          },
          "metadata": {
            "needs_background": "light"
          },
          "output_type": "display_data"
        }
      ],
      "source": [
        "rrk.semideviation3(rets).plot.bar(color = 'purple', figsize = (12, 5))"
      ]
    },
    {
      "cell_type": "markdown",
      "metadata": {
        "id": "Xfqtsgf-soB3"
      },
      "source": [
        "# 7. Summary of Stats"
      ]
    },
    {
      "cell_type": "code",
      "execution_count": null,
      "metadata": {
        "colab": {
          "base_uri": "https://localhost:8080/",
          "height": 520
        },
        "id": "OB6BzgFjSZgi",
        "outputId": "6ca5dd61-d54c-4605-d5d2-793c19b03fbf"
      },
      "outputs": [
        {
          "data": {
            "text/html": [
              "<div>\n",
              "<style scoped>\n",
              "    .dataframe tbody tr th:only-of-type {\n",
              "        vertical-align: middle;\n",
              "    }\n",
              "\n",
              "    .dataframe tbody tr th {\n",
              "        vertical-align: top;\n",
              "    }\n",
              "\n",
              "    .dataframe thead th {\n",
              "        text-align: right;\n",
              "    }\n",
              "</style>\n",
              "<table border=\"1\" class=\"dataframe\">\n",
              "  <thead>\n",
              "    <tr style=\"text-align: right;\">\n",
              "      <th></th>\n",
              "      <th>Annualized Return</th>\n",
              "      <th>Annualized Vol</th>\n",
              "      <th>Skewness</th>\n",
              "      <th>Kurtosis</th>\n",
              "      <th>Cornish-Fisher VaR (5%)</th>\n",
              "      <th>Historic CVaR (5%)</th>\n",
              "      <th>Sharpe Ratio</th>\n",
              "      <th>Max Drawdown</th>\n",
              "    </tr>\n",
              "  </thead>\n",
              "  <tbody>\n",
              "    <tr>\n",
              "      <th>AMD</th>\n",
              "      <td>0.396659</td>\n",
              "      <td>0.517913</td>\n",
              "      <td>-0.697374</td>\n",
              "      <td>3.911932</td>\n",
              "      <td>0.056943</td>\n",
              "      <td>0.080940</td>\n",
              "      <td>0.498732</td>\n",
              "      <td>-0.300556</td>\n",
              "    </tr>\n",
              "    <tr>\n",
              "      <th>META</th>\n",
              "      <td>0.800882</td>\n",
              "      <td>0.336585</td>\n",
              "      <td>-0.177920</td>\n",
              "      <td>4.044864</td>\n",
              "      <td>0.032671</td>\n",
              "      <td>0.046525</td>\n",
              "      <td>1.850063</td>\n",
              "      <td>-0.160207</td>\n",
              "    </tr>\n",
              "    <tr>\n",
              "      <th>JPM</th>\n",
              "      <td>0.097526</td>\n",
              "      <td>0.236474</td>\n",
              "      <td>-0.945199</td>\n",
              "      <td>4.807949</td>\n",
              "      <td>0.027030</td>\n",
              "      <td>0.037457</td>\n",
              "      <td>-0.047592</td>\n",
              "      <td>-0.101302</td>\n",
              "    </tr>\n",
              "    <tr>\n",
              "      <th>NFLX</th>\n",
              "      <td>0.286786</td>\n",
              "      <td>0.236177</td>\n",
              "      <td>-0.346902</td>\n",
              "      <td>2.887045</td>\n",
              "      <td>0.024640</td>\n",
              "      <td>0.031165</td>\n",
              "      <td>0.674594</td>\n",
              "      <td>-0.133343</td>\n",
              "    </tr>\n",
              "    <tr>\n",
              "      <th>GOOG</th>\n",
              "      <td>-0.324480</td>\n",
              "      <td>0.259210</td>\n",
              "      <td>-1.039024</td>\n",
              "      <td>3.882247</td>\n",
              "      <td>0.032256</td>\n",
              "      <td>0.044128</td>\n",
              "      <td>-1.510580</td>\n",
              "      <td>-0.223798</td>\n",
              "    </tr>\n",
              "    <tr>\n",
              "      <th>NVDA</th>\n",
              "      <td>0.276390</td>\n",
              "      <td>0.633434</td>\n",
              "      <td>0.076375</td>\n",
              "      <td>3.561318</td>\n",
              "      <td>0.062091</td>\n",
              "      <td>0.075115</td>\n",
              "      <td>0.236604</td>\n",
              "      <td>-0.266844</td>\n",
              "    </tr>\n",
              "    <tr>\n",
              "      <th>IBE</th>\n",
              "      <td>0.434614</td>\n",
              "      <td>0.166474</td>\n",
              "      <td>-1.082872</td>\n",
              "      <td>5.076682</td>\n",
              "      <td>0.018175</td>\n",
              "      <td>0.025122</td>\n",
              "      <td>1.757485</td>\n",
              "      <td>-0.059438</td>\n",
              "    </tr>\n",
              "    <tr>\n",
              "      <th>WMT</th>\n",
              "      <td>0.837237</td>\n",
              "      <td>0.197068</td>\n",
              "      <td>1.639633</td>\n",
              "      <td>11.461501</td>\n",
              "      <td>0.009309</td>\n",
              "      <td>0.021075</td>\n",
              "      <td>3.326268</td>\n",
              "      <td>-0.058021</td>\n",
              "    </tr>\n",
              "    <tr>\n",
              "      <th>NVO</th>\n",
              "      <td>-0.545251</td>\n",
              "      <td>0.386384</td>\n",
              "      <td>-0.101079</td>\n",
              "      <td>4.680275</td>\n",
              "      <td>0.042443</td>\n",
              "      <td>0.054280</td>\n",
              "      <td>-1.528224</td>\n",
              "      <td>-0.195652</td>\n",
              "    </tr>\n",
              "    <tr>\n",
              "      <th>CVX</th>\n",
              "      <td>-0.169593</td>\n",
              "      <td>0.213086</td>\n",
              "      <td>-0.801430</td>\n",
              "      <td>4.054703</td>\n",
              "      <td>0.025158</td>\n",
              "      <td>0.031345</td>\n",
              "      <td>-1.182537</td>\n",
              "      <td>-0.148724</td>\n",
              "    </tr>\n",
              "  </tbody>\n",
              "</table>\n",
              "</div>"
            ],
            "text/plain": [
              "      Annualized Return  Annualized Vol  Skewness   Kurtosis  \\\n",
              "AMD            0.396659        0.517913 -0.697374   3.911932   \n",
              "META           0.800882        0.336585 -0.177920   4.044864   \n",
              "JPM            0.097526        0.236474 -0.945199   4.807949   \n",
              "NFLX           0.286786        0.236177 -0.346902   2.887045   \n",
              "GOOG          -0.324480        0.259210 -1.039024   3.882247   \n",
              "NVDA           0.276390        0.633434  0.076375   3.561318   \n",
              "IBE            0.434614        0.166474 -1.082872   5.076682   \n",
              "WMT            0.837237        0.197068  1.639633  11.461501   \n",
              "NVO           -0.545251        0.386384 -0.101079   4.680275   \n",
              "CVX           -0.169593        0.213086 -0.801430   4.054703   \n",
              "\n",
              "      Cornish-Fisher VaR (5%)  Historic CVaR (5%)  Sharpe Ratio  Max Drawdown  \n",
              "AMD                  0.056943            0.080940      0.498732     -0.300556  \n",
              "META                 0.032671            0.046525      1.850063     -0.160207  \n",
              "JPM                  0.027030            0.037457     -0.047592     -0.101302  \n",
              "NFLX                 0.024640            0.031165      0.674594     -0.133343  \n",
              "GOOG                 0.032256            0.044128     -1.510580     -0.223798  \n",
              "NVDA                 0.062091            0.075115      0.236604     -0.266844  \n",
              "IBE                  0.018175            0.025122      1.757485     -0.059438  \n",
              "WMT                  0.009309            0.021075      3.326268     -0.058021  \n",
              "NVO                  0.042443            0.054280     -1.528224     -0.195652  \n",
              "CVX                  0.025158            0.031345     -1.182537     -0.148724  "
            ]
          },
          "execution_count": 20,
          "metadata": {},
          "output_type": "execute_result"
        }
      ],
      "source": [
        "rrk.summary_stats(rets[p_all], riskfree_rate=0.11)"
      ]
    },
    {
      "cell_type": "markdown",
      "metadata": {
        "id": "MFjuOiN0d6Tw"
      },
      "source": [
        "# 8. Plot the Efficient Frontier\n",
        "**plot_rigs_ef()**\n",
        "- rets_p : rets of the portfolio to be able to get volatility of each security and plot the scatter of secs.\n",
        "- we can choose the portfolio we want to display.\n",
        "\n",
        "**plot_rigs_ef_1()**\n",
        "- you can display the different portfolios but you will always have all the securities in the scatter plot.\n",
        "- Useful to select additional securities to the actual portfolio. You can choose to evaluate teh EF of the holdings porfolio but displaying all securities available. BECAUSE if there are stocks above the CAPM of the holding portfolio thos are undervalue and possible outperformers.\n",
        "- un problema es que si filtro las rets ['2023-05-21':] en este no se filtran y se quedan con las vols y rets del main source - hay que arreglar eso"
      ]
    },
    {
      "cell_type": "markdown",
      "metadata": {
        "id": "ncbFqNnyN5KK"
      },
      "source": [
        "The Portfolios"
      ]
    },
    {
      "cell_type": "code",
      "execution_count": null,
      "metadata": {
        "colab": {
          "base_uri": "https://localhost:8080/",
          "height": 483
        },
        "id": "yK90ppme3hwn",
        "outputId": "63d84931-0258-4ecb-8f9c-86f51802469b"
      },
      "outputs": [
        {
          "data": {
            "text/plain": [
              "<AxesSubplot:xlabel='Volatility'>"
            ]
          },
          "execution_count": 21,
          "metadata": {},
          "output_type": "execute_result"
        },
        {
          "data": {
            "image/png": "[encoded data removed]",
            "text/plain": [
              "<Figure size 1152x360 with 1 Axes>"
            ]
          },
          "metadata": {
            "needs_background": "light"
          },
          "output_type": "display_data"
        }
      ],
      "source": [
        "rrk.plot_rigs_ef(rets, 25, er[p_all], cov.loc[p_all, p_all], show_cml=True, show_p=True, riskfree_rate=0.10, show_ew=True, show_gmv=True)"
      ]
    },
    {
      "cell_type": "code",
      "execution_count": null,
      "metadata": {
        "id": "tw840_aUOrYO"
      },
      "outputs": [],
      "source": [
        "# rrk.plot_rigs_ef_2(rigs_returns, 25, er[p_all], cov.loc[p_all, p_all], show_cml=True, show_p=True, riskfree_rate=0.11, show_ew=True, show_gmv=True)"
      ]
    },
    {
      "cell_type": "markdown",
      "metadata": {
        "id": "1nl1Ip8tPj2p"
      },
      "source": [
        "# 9. Weights Analysis\n",
        "- change the portfolio for the New Portfolio\n",
        "- add the expected return\n",
        "- get the weights of minimizing vol & weights to achive the msr"
      ]
    },
    {
      "cell_type": "code",
      "execution_count": null,
      "metadata": {
        "colab": {
          "base_uri": "https://localhost:8080/"
        },
        "id": "3mHemeuWebh9",
        "outputId": "eb15bbc7-6213-47a7-8c88-b722cdc13473"
      },
      "outputs": [
        {
          "name": "stdout",
          "output_type": "stream",
          "text": [
            "New Portfolio analysis is:\n",
            "try\n",
            "\n",
            "\n",
            "Please enter Expected Return:\n",
            "0.15\n",
            "\n",
            "\n",
            "Introduced Expected Return: 15.0 %\n",
            "\n",
            "Holding Portfolio Minimized Vol: 11.32 %\n",
            "\n",
            "New Portfolio Minimized Vol : 11.32 %\n"
          ]
        }
      ],
      "source": [
        "value2 = input(\"New Portfolio analysis is:\\n\")\n",
        "print(\"\\n\")\n",
        "name_1 = str(value2)\n",
        "value1 = input(\"Please enter Expected Return:\\n\")\n",
        "print(\"\\n\")\n",
        "e_ret = float(value1)\n",
        "# For holding porfolio\n",
        "weights10 = rrk.minimize_vol(e_ret, er[p_all], cov.loc[p_all, p_all])\n",
        "volatility10 = rrk.portfolio_vol(weights10, cov.loc[p_all, p_all])*100\n",
        "return10 = rrk.portfolio_return(weights10, er[p_all]).round(3)*100\n",
        "# For new portfolio\n",
        "weights20 = rrk.minimize_vol(e_ret, er[p_all], cov.loc[p_all, p_all])\n",
        "volatility20 = rrk.portfolio_vol(weights20, cov.loc[p_all, p_all])*100\n",
        "return20 = rrk.portfolio_return(weights20, er[p_all]).round(3)*100\n",
        "# Results for holding portfolio\n",
        "print('Introduced Expected Return:',return10, '%\\n')\n",
        "print('Holding Portfolio Minimized Vol:', volatility10.round(2), '%\\n')\n",
        "# Results for new portfolio\n",
        "print('New Portfolio Minimized Vol :', volatility20.round(2), '%')"
      ]
    },
    {
      "cell_type": "markdown",
      "metadata": {
        "id": "O5Baa4gpPqD9"
      },
      "source": [
        "Determine optimal weights per asset"
      ]
    },
    {
      "cell_type": "code",
      "execution_count": null,
      "metadata": {
        "colab": {
          "base_uri": "https://localhost:8080/",
          "height": 560
        },
        "id": "Wz-HHkFiK-Sp",
        "outputId": "ebe71e2e-737f-4a7a-f3dc-d39e0f385e03"
      },
      "outputs": [
        {
          "name": "stdout",
          "output_type": "stream",
          "text": [
            "Weights expected to achive expected return of 15.0 % with the secs holding\n",
            "\n",
            "Sum of the weights is: 100.0 %\n",
            "\n"
          ]
        },
        {
          "data": {
            "text/html": [
              "<div>\n",
              "<style scoped>\n",
              "    .dataframe tbody tr th:only-of-type {\n",
              "        vertical-align: middle;\n",
              "    }\n",
              "\n",
              "    .dataframe tbody tr th {\n",
              "        vertical-align: top;\n",
              "    }\n",
              "\n",
              "    .dataframe thead th {\n",
              "        text-align: right;\n",
              "    }\n",
              "</style>\n",
              "<table border=\"1\" class=\"dataframe\">\n",
              "  <thead>\n",
              "    <tr style=\"text-align: right;\">\n",
              "      <th></th>\n",
              "      <th>secs</th>\n",
              "      <th>weights %</th>\n",
              "    </tr>\n",
              "  </thead>\n",
              "  <tbody>\n",
              "    <tr>\n",
              "      <th>0</th>\n",
              "      <td>AMD</td>\n",
              "      <td>0.0</td>\n",
              "    </tr>\n",
              "    <tr>\n",
              "      <th>1</th>\n",
              "      <td>META</td>\n",
              "      <td>0.0</td>\n",
              "    </tr>\n",
              "    <tr>\n",
              "      <th>2</th>\n",
              "      <td>JPM</td>\n",
              "      <td>0.0</td>\n",
              "    </tr>\n",
              "    <tr>\n",
              "      <th>3</th>\n",
              "      <td>NFLX</td>\n",
              "      <td>9.0</td>\n",
              "    </tr>\n",
              "    <tr>\n",
              "      <th>4</th>\n",
              "      <td>GOOG</td>\n",
              "      <td>10.0</td>\n",
              "    </tr>\n",
              "    <tr>\n",
              "      <th>5</th>\n",
              "      <td>NVDA</td>\n",
              "      <td>0.0</td>\n",
              "    </tr>\n",
              "    <tr>\n",
              "      <th>6</th>\n",
              "      <td>IBE</td>\n",
              "      <td>39.0</td>\n",
              "    </tr>\n",
              "    <tr>\n",
              "      <th>7</th>\n",
              "      <td>WMT</td>\n",
              "      <td>8.0</td>\n",
              "    </tr>\n",
              "    <tr>\n",
              "      <th>8</th>\n",
              "      <td>NVO</td>\n",
              "      <td>7.0</td>\n",
              "    </tr>\n",
              "    <tr>\n",
              "      <th>9</th>\n",
              "      <td>CVX</td>\n",
              "      <td>26.0</td>\n",
              "    </tr>\n",
              "  </tbody>\n",
              "</table>\n",
              "</div>"
            ],
            "text/plain": [
              "   secs  weights %\n",
              "0   AMD        0.0\n",
              "1  META        0.0\n",
              "2   JPM        0.0\n",
              "3  NFLX        9.0\n",
              "4  GOOG       10.0\n",
              "5  NVDA        0.0\n",
              "6   IBE       39.0\n",
              "7   WMT        8.0\n",
              "8   NVO        7.0\n",
              "9   CVX       26.0"
            ]
          },
          "execution_count": 24,
          "metadata": {},
          "output_type": "execute_result"
        }
      ],
      "source": [
        "# prepare this for the next cell\n",
        "weights20 = weights20.round(2)*100\n",
        "# Turn weights10 array into a list\n",
        "list_1 = weights10.tolist()\n",
        "# Show secs and w lists as a df\n",
        "secs = pd.Series(p_all, name='secs')\n",
        "weights = pd.Series(weights10.round(2)*100, name='weights %')\n",
        "secs_weights=pd.concat([secs,weights],axis=1)\n",
        "print(\"Weights expected to achive expected return of\", return10, '% with the secs holding\\n')\n",
        "print('Sum of the weights is:', weights10.sum().round(2)*100, '%\\n')\n",
        "secs_weights"
      ]
    },
    {
      "cell_type": "code",
      "execution_count": null,
      "metadata": {
        "colab": {
          "base_uri": "https://localhost:8080/",
          "height": 560
        },
        "id": "qKlLwA_zm7AK",
        "outputId": "7c45a735-9821-4227-f413-00263074012d"
      },
      "outputs": [
        {
          "name": "stdout",
          "output_type": "stream",
          "text": [
            "Weights expected to achive expected return of 15.0 % with the try portfolio secs\n",
            "\n",
            "Sum of the weights is: 99.0 %\n",
            "\n"
          ]
        },
        {
          "data": {
            "text/html": [
              "<div>\n",
              "<style scoped>\n",
              "    .dataframe tbody tr th:only-of-type {\n",
              "        vertical-align: middle;\n",
              "    }\n",
              "\n",
              "    .dataframe tbody tr th {\n",
              "        vertical-align: top;\n",
              "    }\n",
              "\n",
              "    .dataframe thead th {\n",
              "        text-align: right;\n",
              "    }\n",
              "</style>\n",
              "<table border=\"1\" class=\"dataframe\">\n",
              "  <thead>\n",
              "    <tr style=\"text-align: right;\">\n",
              "      <th></th>\n",
              "      <th>secs</th>\n",
              "      <th>weights new p %</th>\n",
              "    </tr>\n",
              "  </thead>\n",
              "  <tbody>\n",
              "    <tr>\n",
              "      <th>0</th>\n",
              "      <td>AMD</td>\n",
              "      <td>0.0</td>\n",
              "    </tr>\n",
              "    <tr>\n",
              "      <th>1</th>\n",
              "      <td>META</td>\n",
              "      <td>0.0</td>\n",
              "    </tr>\n",
              "    <tr>\n",
              "      <th>2</th>\n",
              "      <td>JPM</td>\n",
              "      <td>0.0</td>\n",
              "    </tr>\n",
              "    <tr>\n",
              "      <th>3</th>\n",
              "      <td>NFLX</td>\n",
              "      <td>9.0</td>\n",
              "    </tr>\n",
              "    <tr>\n",
              "      <th>4</th>\n",
              "      <td>GOOG</td>\n",
              "      <td>10.0</td>\n",
              "    </tr>\n",
              "    <tr>\n",
              "      <th>5</th>\n",
              "      <td>NVDA</td>\n",
              "      <td>0.0</td>\n",
              "    </tr>\n",
              "    <tr>\n",
              "      <th>6</th>\n",
              "      <td>IBE</td>\n",
              "      <td>39.0</td>\n",
              "    </tr>\n",
              "    <tr>\n",
              "      <th>7</th>\n",
              "      <td>WMT</td>\n",
              "      <td>8.0</td>\n",
              "    </tr>\n",
              "    <tr>\n",
              "      <th>8</th>\n",
              "      <td>NVO</td>\n",
              "      <td>7.0</td>\n",
              "    </tr>\n",
              "    <tr>\n",
              "      <th>9</th>\n",
              "      <td>CVX</td>\n",
              "      <td>26.0</td>\n",
              "    </tr>\n",
              "  </tbody>\n",
              "</table>\n",
              "</div>"
            ],
            "text/plain": [
              "   secs  weights new p %\n",
              "0   AMD              0.0\n",
              "1  META              0.0\n",
              "2   JPM              0.0\n",
              "3  NFLX              9.0\n",
              "4  GOOG             10.0\n",
              "5  NVDA              0.0\n",
              "6   IBE             39.0\n",
              "7   WMT              8.0\n",
              "8   NVO              7.0\n",
              "9   CVX             26.0"
            ]
          },
          "execution_count": 25,
          "metadata": {},
          "output_type": "execute_result"
        }
      ],
      "source": [
        "# Turn weights10 array into a list\n",
        "list_2 = weights20.tolist()\n",
        "# Show secs and w lists as a df\n",
        "secs_2 = pd.Series(p_all, name='secs')\n",
        "weights20 = pd.Series(weights20, name='weights new p %')\n",
        "secs_weights_new=pd.concat([secs_2,weights20],axis=1)\n",
        "print(\"Weights expected to achive expected return of\", return20, '% with the', name_1, 'portfolio secs\\n')\n",
        "print('Sum of the weights is:', weights20.sum(), '%\\n')\n",
        "secs_weights_new"
      ]
    },
    {
      "cell_type": "code",
      "execution_count": null,
      "metadata": {
        "colab": {
          "base_uri": "https://localhost:8080/",
          "height": 488
        },
        "id": "lZz_5fUqNaPf",
        "outputId": "195aba2b-373d-4125-a98d-3d3c2ee6deb1"
      },
      "outputs": [
        {
          "data": {
            "text/html": [
              "<div>\n",
              "<style scoped>\n",
              "    .dataframe tbody tr th:only-of-type {\n",
              "        vertical-align: middle;\n",
              "    }\n",
              "\n",
              "    .dataframe tbody tr th {\n",
              "        vertical-align: top;\n",
              "    }\n",
              "\n",
              "    .dataframe thead th {\n",
              "        text-align: right;\n",
              "    }\n",
              "</style>\n",
              "<table border=\"1\" class=\"dataframe\">\n",
              "  <thead>\n",
              "    <tr style=\"text-align: right;\">\n",
              "      <th></th>\n",
              "      <th>secs</th>\n",
              "      <th>weights msr %</th>\n",
              "    </tr>\n",
              "  </thead>\n",
              "  <tbody>\n",
              "    <tr>\n",
              "      <th>0</th>\n",
              "      <td>AMD</td>\n",
              "      <td>0.00</td>\n",
              "    </tr>\n",
              "    <tr>\n",
              "      <th>1</th>\n",
              "      <td>META</td>\n",
              "      <td>13.29</td>\n",
              "    </tr>\n",
              "    <tr>\n",
              "      <th>2</th>\n",
              "      <td>JPM</td>\n",
              "      <td>0.00</td>\n",
              "    </tr>\n",
              "    <tr>\n",
              "      <th>3</th>\n",
              "      <td>NFLX</td>\n",
              "      <td>0.00</td>\n",
              "    </tr>\n",
              "    <tr>\n",
              "      <th>4</th>\n",
              "      <td>GOOG</td>\n",
              "      <td>0.00</td>\n",
              "    </tr>\n",
              "    <tr>\n",
              "      <th>5</th>\n",
              "      <td>NVDA</td>\n",
              "      <td>0.00</td>\n",
              "    </tr>\n",
              "    <tr>\n",
              "      <th>6</th>\n",
              "      <td>IBE</td>\n",
              "      <td>38.92</td>\n",
              "    </tr>\n",
              "    <tr>\n",
              "      <th>7</th>\n",
              "      <td>WMT</td>\n",
              "      <td>47.79</td>\n",
              "    </tr>\n",
              "    <tr>\n",
              "      <th>8</th>\n",
              "      <td>NVO</td>\n",
              "      <td>0.00</td>\n",
              "    </tr>\n",
              "    <tr>\n",
              "      <th>9</th>\n",
              "      <td>CVX</td>\n",
              "      <td>0.00</td>\n",
              "    </tr>\n",
              "  </tbody>\n",
              "</table>\n",
              "</div>"
            ],
            "text/plain": [
              "   secs  weights msr %\n",
              "0   AMD           0.00\n",
              "1  META          13.29\n",
              "2   JPM           0.00\n",
              "3  NFLX           0.00\n",
              "4  GOOG           0.00\n",
              "5  NVDA           0.00\n",
              "6   IBE          38.92\n",
              "7   WMT          47.79\n",
              "8   NVO           0.00\n",
              "9   CVX           0.00"
            ]
          },
          "execution_count": 26,
          "metadata": {},
          "output_type": "execute_result"
        }
      ],
      "source": [
        "# Optimal weights for a max sharpe ratio portfolio?\n",
        "weights_msrp = rrk.msr(0.1, er[p_all], cov.loc[p_all, p_all]).round(5)*100\n",
        "# Turn weights10 array into a list\n",
        "list_2 = weights_msrp.tolist()\n",
        "# Show secs and w lists as a df\n",
        "secs_msr = pd.Series(p_all, name='secs')\n",
        "weights_msr = pd.Series(weights_msrp.round(2), name='weights msr %')\n",
        "secs_weights=pd.concat([secs_msr,weights_msr],axis=1)\n",
        "secs_weights"
      ]
    },
    {
      "cell_type": "markdown",
      "metadata": {
        "id": "4nZHSpiMTqN6"
      },
      "source": [
        "Realize that msr and minimize_vol functions will provide with the same weights if expected return on minimize_vol is precisely where the cml touches de efficient frontier."
      ]
    },
    {
      "cell_type": "markdown",
      "metadata": {
        "id": "_whZOTI3vsEC"
      },
      "source": [
        "# Minimized Vol Portfolio\n",
        "## vol & ret expectations\n",
        "If I would have used those weights of the **Minimized Portfolio** since the beginning of 2023 this would be my annualized volatility and return 😲"
      ]
    },
    {
      "cell_type": "code",
      "execution_count": null,
      "metadata": {
        "colab": {
          "base_uri": "https://localhost:8080/"
        },
        "id": "ma8D2WMPTIP5",
        "outputId": "c21c3c3a-3967-4032-bb86-26ea9a29bdfe"
      },
      "outputs": [
        {
          "name": "stdout",
          "output_type": "stream",
          "text": [
            "Volatility of the portfolio since \"that date\" 11.0 %\n"
          ]
        }
      ],
      "source": [
        "# volatility of the portfolio with those weights already from 2000 and on for just the 2018 period.\n",
        "p_vol10 = rrk.portfolio_vol(weights10, rets['2024-01-02':][p_all].cov())\n",
        "# Annualized that volatility\n",
        "annualized_vol10 = p_vol10*(252**0.5)\n",
        "print('Volatility of the portfolio since \"that date\"', annualized_vol10.round(2)*100, '%')"
      ]
    },
    {
      "cell_type": "code",
      "execution_count": null,
      "metadata": {
        "colab": {
          "base_uri": "https://localhost:8080/"
        },
        "id": "0Xf_9YJesjZu",
        "outputId": "d1920860-40f1-4de0-fd2b-548fcdaf5d86"
      },
      "outputs": [
        {
          "name": "stdout",
          "output_type": "stream",
          "text": [
            "Total Return since then: 0.0 %\n"
          ]
        }
      ],
      "source": [
        "er10 = rrk.annualize_rets(rets['2024-01-02':], 252)\n",
        "# volatility of the portfolio with those weights already from 2000 and on for just the 2018 period.\n",
        "p_ret10 = rrk.portfolio_return(weights10, er10[p_all])\n",
        "# Annualized that volatility\n",
        "n_periods = rets['2023-01-02':].shape[0]\n",
        "annualized_ret10 = p_ret10**(252/n_periods)\n",
        "print('Total Return since then:', annualized_ret10.round(2)*100, '%')"
      ]
    },
    {
      "cell_type": "code",
      "execution_count": null,
      "metadata": {
        "id": "MSpdIcEl-xlk"
      },
      "outputs": [],
      "source": []
    }
  ],
  "metadata": {
    "colab": {
      "provenance": [],
      "include_colab_link": true
    },
    "kernelspec": {
      "display_name": "Python 3 (ipykernel)",
      "language": "python",
      "name": "python3"
    },
    "language_info": {
      "codemirror_mode": {
        "name": "ipython",
        "version": 3
      },
      "file_extension": ".py",
      "mimetype": "text/x-python",
      "name": "python",
      "nbconvert_exporter": "python",
      "pygments_lexer": "ipython3",
      "version": "3.9.7"
    }
  },
  "nbformat": 4,
  "nbformat_minor": 0
}