{
  "nbformat": 4,
  "nbformat_minor": 0,
  "metadata": {
    "colab": {
      "provenance": [],
      "authorship_tag": "ABX9TyMqJ9v08mWrob/09EJHAoY7",
      "include_colab_link": true
    },
    "kernelspec": {
      "name": "python3",
      "display_name": "Python 3"
    },
    "language_info": {
      "name": "python"
    }
  },
  "cells": [
    {
      "cell_type": "markdown",
      "metadata": {
        "id": "view-in-github",
        "colab_type": "text"
      },
      "source": [
        "<a href=\"https://colab.research.google.com/github/Rauloigs/Fin-Technical-Analysis/blob/main/factor_analysis_sharpe.ipynb\" target=\"_parent\"><img src=\"https://colab.research.google.com/assets/colab-badge.svg\" alt=\"Open In Colab\"/></a>"
      ]
    },
    {
      "cell_type": "markdown",
      "source": [
        "# Sharpe Style Analysis\n",
        "\n",
        "Sharpe Style Analysis is an elegant and simple decomposition exercise similar to what we did in the previous lab session, with the added constraint that the coefficients are all positive and add to 1.\n",
        "\n",
        "Therefore, the coefficients of performing style analysis on the observed return of a manager can be interpreted as weights in a portfolio of building blocks which together, _mimic_ that return series. The exercise can reveal drifts in a manager's style as well as provide insight into what the manager is likely doing to obtain the returns.\n",
        "\n",
        "\n",
        "# Performing Sharpe Style Analysis\n",
        "\n",
        "The key to obtaining the weights is our old friend, the quadriatic optimizer. We are asking the optimizer to find the weights that minimizes the square of the difference between the observed series and the returns of a benchmark portfolio that holds the explanatory building blocks in those same weights. This is equivalent to minimizing the _tracking error_ between the two return series.\n",
        "\n",
        "The code to implement this is a very slight modification of the `minimize_vol` we have previously implemented:\n",
        "\n",
        "```python                         \n",
        "def style_analysis(dependent_variable, explanatory_variables):\n",
        "    \"\"\"\n",
        "    Returns the optimal weights that minimizes the Tracking error between\n",
        "    a portfolio of the explanatory variables and the dependent variable\n",
        "    \"\"\"\n",
        "    n = explanatory_variables.shape[1]\n",
        "    init_guess = np.repeat(1/n, n)\n",
        "    bounds = ((0.0, 1.0),) * n # an N-tuple of 2-tuples!\n",
        "    # construct the constraints\n",
        "    weights_sum_to_1 = {'type': 'eq',\n",
        "                        'fun': lambda weights: np.sum(weights) - 1\n",
        "    }\n",
        "    solution = minimize(portfolio_tracking_error, init_guess,\n",
        "                       args=(dependent_variable, explanatory_variables,), method='SLSQP',\n",
        "                       options={'disp': False},\n",
        "                       constraints=(weights_sum_to_1,),\n",
        "                       bounds=bounds)\n",
        "    weights = pd.Series(solution.x, index=explanatory_variables.columns)\n",
        "    return weights\n",
        "```\n",
        "\n",
        "The Objective function is a very simple one-liner\n",
        "\n",
        "```python\n",
        "def portfolio_tracking_error(weights, ref_r, bb_r):\n",
        "    \"\"\"\n",
        "    returns the tracking error between the reference returns\n",
        "    and a portfolio of building block returns held with given weights\n",
        "    \"\"\"\n",
        "    return tracking_error(ref_r, (weights*bb_r).sum(axis=1))\n",
        "```"
      ],
      "metadata": {
        "id": "R7vnJlJwNeDL"
      }
    },
    {
      "cell_type": "code",
      "source": [
        "import pandas as pd\n",
        "import numpy as np\n",
        "\n",
        "\n",
        "# To upload files from drive\n",
        "!pip install -U -q PyDrive2\n",
        "\n",
        "from pydrive2.auth import GoogleAuth\n",
        "from pydrive2.drive import GoogleDrive\n",
        "from google.colab import auth\n",
        "from oauth2client.client import GoogleCredentials\n",
        "from google.colab import drive\n",
        "drive.mount('/content/drive')\n",
        "\n",
        "# additional for gspread\n",
        "import gspread\n",
        "from google.auth import default\n",
        "\n",
        "\n",
        "# Authenticate and create the PyDrive2 client.\n",
        "auth.authenticate_user()\n",
        "gauth = GoogleAuth()\n",
        "gauth.credentials = GoogleCredentials.get_application_default()\n",
        "drive = GoogleDrive(gauth)\n",
        "\n",
        "# additional for gspread 1\n",
        "creds, _ = default()\n",
        "gc = gspread.authorize(creds)\n",
        "\n",
        "# print csv in df\n",
        "link = 'https://drive.google.com/file/d/1dj1A6Cjvs6m3p_ldsAc78k14iFT0faBR/view?usp=sharing'\n",
        "## link_1 = 'https://drive.google.com/file/d/1um0PKVFX5ChSuRFC9mSnwtehZ8aTzUsm/view?usp=sharing'\n",
        "\n",
        "# to get the id part of the file\n",
        "id = link.split(\"/\")[-2]\n",
        "## id_1 = link_1.split(\"/\")[-2]\n",
        "\n",
        "downloaded = drive.CreateFile({'id':id})\n",
        "downloaded.GetContentFile('ind30_m_vw_rets.csv')\n",
        "\n",
        "## downloaded_1 = drive.CreateFile({'id':id_1})\n",
        "## downloaded_1.GetContentFile('F-F_Research_Data_Factors_m.csv')"
      ],
      "metadata": {
        "colab": {
          "base_uri": "https://localhost:8080/"
        },
        "id": "wi-gT1vlOj0Y",
        "outputId": "4d426b76-f1b8-4a35-99ae-e20d0699560e"
      },
      "execution_count": null,
      "outputs": [
        {
          "output_type": "stream",
          "name": "stdout",
          "text": [
            "Drive already mounted at /content/drive; to attempt to forcibly remount, call drive.mount(\"/content/drive\", force_remount=True).\n"
          ]
        }
      ]
    },
    {
      "cell_type": "code",
      "execution_count": null,
      "metadata": {
        "colab": {
          "base_uri": "https://localhost:8080/"
        },
        "id": "eArYveZJNMxl",
        "outputId": "c45e3e20-a79f-4f29-f02c-54ff309c98a0"
      },
      "outputs": [
        {
          "output_type": "stream",
          "name": "stdout",
          "text": [
            "The autoreload extension is already loaded. To reload it, use:\n",
            "  %reload_ext autoreload\n"
          ]
        }
      ],
      "source": [
        "%load_ext autoreload\n",
        "%autoreload 2\n",
        "\n",
        "# Matplot lib / not necessary here in colab\n",
        "%matplotlib inline\n",
        "\n",
        "# Remember: !cp -path /content\n",
        "!cp /content/drive/MyDrive/rigs/courses/finance/modules/modules_py/edhec_risk_kit_202.py /content\n",
        "\n",
        "import edhec_risk_kit_202 as erk"
      ]
    },
    {
      "cell_type": "code",
      "source": [
        "ind = erk.get_ind_returns()[\"2000\":]"
      ],
      "metadata": {
        "colab": {
          "base_uri": "https://localhost:8080/"
        },
        "id": "QOEry2-wNe8s",
        "outputId": "4cb2a328-819e-4e3f-fe58-3776ba0f65c6"
      },
      "execution_count": null,
      "outputs": [
        {
          "output_type": "stream",
          "name": "stderr",
          "text": [
            "/content/edhec_risk_kit_202.py:43: SyntaxWarning: \"is\" with a literal. Did you mean \"==\"?\n",
            "  if filetype is \"returns\":\n",
            "/content/edhec_risk_kit_202.py:46: SyntaxWarning: \"is\" with a literal. Did you mean \"==\"?\n",
            "  elif filetype is \"nfirms\":\n",
            "/content/edhec_risk_kit_202.py:49: SyntaxWarning: \"is\" with a literal. Did you mean \"==\"?\n",
            "  elif filetype is \"size\":\n"
          ]
        }
      ]
    },
    {
      "cell_type": "markdown",
      "source": [],
      "metadata": {
        "id": "Jr3onobaT5Ox"
      }
    },
    {
      "cell_type": "markdown",
      "source": [
        "Let's construct a manager that invests in 30% Beer, 50% in Smoke and 20% in other things that have an average return of 0% and an annualized vol of 15%"
      ],
      "metadata": {
        "id": "vTfFDAGDT5W_"
      }
    },
    {
      "cell_type": "code",
      "source": [
        "mgr_r = 0.3*ind[\"Beer\"] + .5*ind[\"Smoke\"] + 0.2*np.random.normal(scale=0.15/(12**.5), size=ind.shape[0])"
      ],
      "metadata": {
        "id": "AW7blDuySdu2"
      },
      "execution_count": null,
      "outputs": []
    },
    {
      "cell_type": "markdown",
      "source": [
        "Now, assume we knew absolutely nothing about this manager and all we observed was the returns. How could we tell what she was invested in?"
      ],
      "metadata": {
        "id": "7hqBDnEPUJvA"
      }
    },
    {
      "cell_type": "code",
      "source": [
        "weights = erk.style_analysis(mgr_r, ind)*100"
      ],
      "metadata": {
        "id": "6CkT01eeUBTI"
      },
      "execution_count": null,
      "outputs": []
    },
    {
      "cell_type": "code",
      "source": [
        "weights.sort_values(ascending=False).head(6).plot.bar()"
      ],
      "metadata": {
        "colab": {
          "base_uri": "https://localhost:8080/",
          "height": 481
        },
        "id": "T9xD5cGdUMbB",
        "outputId": "d522600c-be1c-489a-fba4-54025126d65d"
      },
      "execution_count": null,
      "outputs": [
        {
          "output_type": "execute_result",
          "data": {
            "text/plain": [
              "<Axes: >"
            ]
          },
          "metadata": {},
          "execution_count": 26
        },
        {
          "output_type": "display_data",
          "data": {
            "text/plain": [
              "<Figure size 640x480 with 1 Axes>"
            ],
            "image/png": "[encoded data removed]"
          },
          "metadata": {}
        }
      ]
    },
    {
      "cell_type": "markdown",
      "source": [
        "Contrast this to the results of a regression. Because the model is in fact very true (i.e. we really did construct the manager's returns out of the building blocks), the results are remarkably accurate. However, the negative coefficients are hard to intepret and in real-life data, those will be much larger. However when it works well, such as in this artificial example here, the results can be very accurate."
      ],
      "metadata": {
        "id": "z4kzmYQiUXVz"
      }
    },
    {
      "cell_type": "code",
      "source": [
        "coeffs = erk.regress(mgr_r, ind).params*100\n",
        "coeffs.sort_values().head()"
      ],
      "metadata": {
        "colab": {
          "base_uri": "https://localhost:8080/"
        },
        "id": "ybWIdD5BUPEX",
        "outputId": "d83bda57-36e5-4c00-bc45-3dcca244f4a6"
      },
      "execution_count": null,
      "outputs": [
        {
          "output_type": "execute_result",
          "data": {
            "text/plain": [
              "Carry   -4.590585\n",
              "Oil     -4.348586\n",
              "BusEq   -2.424000\n",
              "Paper   -2.392005\n",
              "Books   -2.386620\n",
              "dtype: float64"
            ]
          },
          "metadata": {},
          "execution_count": 27
        }
      ]
    },
    {
      "cell_type": "markdown",
      "metadata": {
        "id": "sunXitxxNZAp"
      },
      "source": [
        "Negative 4.5% in Household?"
      ]
    },
    {
      "cell_type": "code",
      "execution_count": null,
      "metadata": {
        "id": "zJErW0gQNZAp",
        "outputId": "b32ace35-3660-4c9e-e385-f85f7f29e398",
        "colab": {
          "base_uri": "https://localhost:8080/",
          "height": 481
        }
      },
      "outputs": [
        {
          "output_type": "execute_result",
          "data": {
            "text/plain": [
              "<Axes: >"
            ]
          },
          "metadata": {},
          "execution_count": 28
        },
        {
          "output_type": "display_data",
          "data": {
            "text/plain": [
              "<Figure size 640x480 with 1 Axes>"
            ],
            "image/png": "[encoded data removed]"
          },
          "metadata": {}
        }
      ],
      "source": [
        "coeffs.sort_values(ascending=False).head(6).plot.bar()"
      ]
    },
    {
      "cell_type": "markdown",
      "metadata": {
        "id": "-9xkAzEnNZAp"
      },
      "source": [
        "## Style Drift: Time Varying Exposures using Style Anaylsis\n",
        "\n",
        "One of the most common ways in which Sharpe Style Analysis can be used is to measure style drift. If you run the style analysis function over a rolling window of 1 to 5 years, you can extract changes in the style exposures of a manager.\n",
        "\n",
        "We'll look at Rolling Windows in the next lab session.\n",
        "\n",
        "As an exercise to the student, download a set of returns from Yahoo Finance, and try and measure the style drift in your favorite fund manager. Use reliable Value and Growth ETFs such as \"SPYG\" and \"SPYV\" along with a SmallCap ETF such as \"SLY\" and LargeCap ETF such as \"OEF\".\n",
        "\n",
        "Alternately, the Fama-French research factors and use the Top and Bottom portfolios by Value (HML) and Size (SMB) to categorize mutual funds into categories. This is very similar to the \"Style Box\" methodology employed by Morningstar and displayed on their website. Compare your results with their results to see if they agree!"
      ]
    },
    {
      "cell_type": "markdown",
      "metadata": {
        "id": "RhgzS5MWNZAp"
      },
      "source": [
        "# Warning: Potential Misuse of Style Analysis\n",
        "\n",
        "Style Analysis works best when the explanatory indices are in fact a good specification of what is happening. For instance, it usually gives you very useful and revealing insight if you use a stock market index (such as SPY) and other broad indices, ETFs or mutual funds (such as a Value Fund, a Growth Fund, an International Fund, a Bond Fund etc).\n",
        "\n",
        "Part of the skill in extracting meaningful results is to pick the right set of explanatory variables.\n",
        "\n",
        "However, a part of the challenge with Style Analysis is that it will _always_ return a portfolio. Although it is possible to develop a figure of merit of fit quality similar to an $R^2$, it will still always give you an answer, however unreasonable it might be, and it's not always obvious how much one can rely on the result.\n",
        "\n",
        "For instance, we can try and extract the major industries that Buffer invested in since 2000 as follows:"
      ]
    },
    {
      "cell_type": "code",
      "execution_count": null,
      "metadata": {
        "id": "BSzLpRJ0NZAp"
      },
      "outputs": [],
      "source": [
        "brka_m = pd.read_csv(\"brka_m.csv\", index_col=0, parse_dates=True).to_period('M')"
      ]
    },
    {
      "cell_type": "code",
      "execution_count": null,
      "metadata": {
        "id": "Xnoachn2NZAp",
        "outputId": "64901dfe-c17d-4556-f4ea-c47ff24bebf8"
      },
      "outputs": [
        {
          "data": {
            "text/plain": [
              "Food     41.35\n",
              "Fin      17.61\n",
              "Meals    12.11\n",
              "Other    11.03\n",
              "Util      7.19\n",
              "Clths     5.99\n",
              "dtype: float64"
            ]
          },
          "execution_count": 9,
          "metadata": {},
          "output_type": "execute_result"
        }
      ],
      "source": [
        "mgr_r_b = brka_m[\"2000\":][\"BRKA\"]\n",
        "weights_b = erk.style_analysis(mgr_r_b, ind)\n",
        "weights_b.sort_values(ascending=False).head(6).round(4)*100"
      ]
    },
    {
      "cell_type": "markdown",
      "metadata": {
        "id": "IxJF-2ZDNZAq"
      },
      "source": [
        "If we want to look at the last decade (2009-2018):"
      ]
    },
    {
      "cell_type": "code",
      "execution_count": null,
      "metadata": {
        "id": "4SHOqBs1NZAq",
        "outputId": "24c782d4-e601-4237-c4c4-5850f004006e"
      },
      "outputs": [
        {
          "data": {
            "text/plain": [
              "Other    43.64\n",
              "Food     28.33\n",
              "Hlth     22.72\n",
              "Rtail     5.25\n",
              "Meals     0.07\n",
              "Books     0.00\n",
              "dtype: float64"
            ]
          },
          "execution_count": 10,
          "metadata": {},
          "output_type": "execute_result"
        }
      ],
      "source": [
        "brk2009 = brka_m[\"2009\":][\"BRKA\"]\n",
        "ind2009 = ind[\"2009\":]\n",
        "erk.style_analysis(brk2009, ind2009).sort_values(ascending=False).head(6).round(4)*100"
      ]
    },
    {
      "cell_type": "markdown",
      "metadata": {
        "id": "cY8vPtIrNZAq"
      },
      "source": [
        "Should you believe the analysis? Probably not. However, when the specification is in fact accurate (as we saw in the articially generated series) the results can be very revealing"
      ]
    }
  ]
}